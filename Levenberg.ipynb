{
  "nbformat": 4,
  "nbformat_minor": 0,
  "metadata": {
    "colab": {
      "provenance": []
    },
    "kernelspec": {
      "name": "python3",
      "display_name": "Python 3"
    },
    "language_info": {
      "name": "python"
    }
  },
  "cells": [
    {
      "cell_type": "code",
      "source": [
        "import numpy as np\n",
        "from scipy import linalg as lg\n",
        "import time"
      ],
      "metadata": {
        "id": "OXyQ2Vq_qDPv"
      },
      "execution_count": 1,
      "outputs": []
    },
    {
      "cell_type": "code",
      "source": [
        "def count_layers(len_dim, factors):\n",
        "    layers = []\n",
        "    layer = []\n",
        "    for n in range(len_dim):\n",
        "        layer.append(factors[n].T @ factors[n])\n",
        "    layers.append(layer)\n",
        "\n",
        "    for n in range(1, len_dim - 1):\n",
        "        layer = []\n",
        "        for r in range(len_dim - n):\n",
        "            layer.append(layers[n - 1][r] * layers[0][r + n])\n",
        "        layers.append(layer)\n",
        "    return layers"
      ],
      "metadata": {
        "id": "s8Vy96yZiHmH"
      },
      "execution_count": 18,
      "outputs": []
    },
    {
      "cell_type": "code",
      "source": [
        "def count_W(len_dim, layers):\n",
        "    W = []\n",
        "    for row in range(len_dim):\n",
        "        start_layer = row - 1\n",
        "        end_layer = len_dim - row - 2\n",
        "        if start_layer >= 0:\n",
        "            W_col = layers[start_layer][0]\n",
        "            if end_layer >= 0:\n",
        "                W_col = W_col * layers[end_layer][-1]\n",
        "        else:\n",
        "            W_col = layers[end_layer][-1]\n",
        "\n",
        "        W_row = [W_col]\n",
        "\n",
        "        for col in range(row + 1, len_dim):\n",
        "            start_layer = row - 1\n",
        "            middle_layer = col - row - 2\n",
        "            end_layer = len_dim - col - 2\n",
        "\n",
        "            if start_layer >= 0:\n",
        "                W_col = layers[start_layer][0]\n",
        "                if middle_layer >= 0:\n",
        "                    W_col = W_col * layers[middle_layer][row + 1]\n",
        "                if end_layer >= 0:\n",
        "                    W_col = W_col * layers[end_layer][-1]\n",
        "            elif middle_layer >= 0:\n",
        "                W_col = layers[middle_layer][row + 1]\n",
        "                if end_layer >= 0:\n",
        "                    W_col = W_col * layers[end_layer][-1]\n",
        "            else:\n",
        "                W_col = layers[end_layer][-1]\n",
        "\n",
        "\n",
        "            W_row.append(W_col)\n",
        "\n",
        "        W.append(W_row)\n",
        "\n",
        "    return W"
      ],
      "metadata": {
        "id": "61BdJ2UmieBD"
      },
      "execution_count": 571,
      "outputs": []
    },
    {
      "cell_type": "code",
      "source": [
        "def count_JJ_d(len_dim, W, pos, jacob_size, dimensions, rank, factors, coef):\n",
        "    JJ = np.zeros((jacob_size, jacob_size))\n",
        "    for row in range(len_dim):\n",
        "        BB = W[row][0]\n",
        "        for r in range(dimensions[row]):\n",
        "            now_pos = pos[row] + r * rank\n",
        "            JJ[now_pos:now_pos+rank, now_pos:now_pos+rank] = BB\n",
        "\n",
        "    for alpha in range(len_dim):\n",
        "        now_alpha = pos[alpha]\n",
        "        for i in range(alpha + 1, len_dim):\n",
        "            now_i = pos[i]\n",
        "\n",
        "            now_W = W[alpha][i - alpha]\n",
        "            for betta in range(dimensions[alpha]):\n",
        "                now_a_b = now_alpha + betta * rank\n",
        "                for j in range(dimensions[i]):\n",
        "                    now_i_j = now_i + j * rank\n",
        "                    for gamma in range(rank):\n",
        "                        now_a_b_g = now_a_b + gamma\n",
        "                        for k in range(rank):\n",
        "                            now_i_j_k = now_i_j + k\n",
        "                            JJ[now_a_b_g, now_i_j_k] = now_W[gamma][k] * factors[i][j][gamma] * factors[alpha][betta][k]\n",
        "                            JJ[now_i_j_k, now_a_b_g] = now_W[k][gamma] * factors[i][j][gamma] * factors[alpha][betta][k]\n",
        "\n",
        "\n",
        "    for i in range(jacob_size):\n",
        "        JJ[i][i] *= (1 + coef)\n",
        "\n",
        "    return JJ"
      ],
      "metadata": {
        "id": "mBCbaxPxom0G"
      },
      "execution_count": 572,
      "outputs": []
    },
    {
      "cell_type": "code",
      "source": [
        "def count_J_A(len_dim, factors, rank, dimensions):\n",
        "    J_start = [factors[0]]\n",
        "    J_end = [factors[-1]]\n",
        "    for i in range(1, len_dim - 1):\n",
        "        J_start.append(lg.khatri_rao(J_start[i - 1], factors[i]))\n",
        "        J_end.append(lg.khatri_rao(factors[-i - 1], J_end[i - 1]))\n",
        "    A = lg.khatri_rao(J_start[-1], factors[len_dim - 1])\n",
        "    A = np.sum(A, axis=1)\n",
        "\n",
        "    J = np.zeros((np.prod(dimensions), np.sum(dimensions) * rank))\n",
        "    for k in range(len_dim):\n",
        "        pos = int(np.sum(dimensions[:k]) * rank)\n",
        "        for i in range(dimensions[k]):\n",
        "            E = np.zeros((dimensions[k], rank))\n",
        "            E[i, :] = np.ones((1, rank))\n",
        "            if k > 0:\n",
        "                val = lg.khatri_rao(J_start[k - 1], E)\n",
        "                if k < len_dim - 1:\n",
        "                    val = lg.khatri_rao(val, J_end[len_dim - k - 2])\n",
        "                J[:, pos + i * rank: pos + i * rank + rank] = val\n",
        "            else:\n",
        "                J[:, (pos + i * rank):(pos + i * rank + rank)] = lg.khatri_rao(E, J_end[len_dim - 2])\n",
        "\n",
        "    return J, A"
      ],
      "metadata": {
        "id": "OOSIpR8L6lVE"
      },
      "execution_count": 573,
      "outputs": []
    },
    {
      "cell_type": "code",
      "execution_count": 609,
      "metadata": {
        "id": "hKzGDgqNp0hH"
      },
      "outputs": [],
      "source": [
        "def Levenberg(tensor, rank, seed=42, tol = 10**(-8), n_iteration = 100):\n",
        "\n",
        "    dimensions = tensor.shape\n",
        "    len_dim = len(dimensions)\n",
        "\n",
        "    jacob_size = int(np.sum(dimensions) * rank)\n",
        "\n",
        "    rng = np.random.RandomState(seed)\n",
        "    factors = np.array([rng.rand(dimensions[i], rank) for i in range(len_dim)], dtype=object)\n",
        "\n",
        "    eps = 1.0\n",
        "    it = 0\n",
        "\n",
        "    pos = [0]\n",
        "    for i in range(len_dim - 1):\n",
        "        pos.append(pos[i] + dimensions[i] * rank)\n",
        "\n",
        "    while eps > tol and it < n_iteration:\n",
        "\n",
        "        layers = count_layers(len_dim, factors)\n",
        "        W = count_W(len_dim, layers)\n",
        "\n",
        "        JJ_d = count_JJ_d(len_dim, W, pos, jacob_size, dimensions, rank, factors, coef=1)\n",
        "        J, A = count_J_A(len_dim, factors, rank, dimensions)\n",
        "        delta = np.linalg.pinv(JJ_d) @ (J.T @ (A - tensor.reshape((1, -1))).T)\n",
        "\n",
        "        for i in range(len_dim):\n",
        "            position = int(np.sum(dimensions[:i]) * rank)\n",
        "            for j in range(dimensions[i]):\n",
        "                factors[i][j, :] -= (delta[position + j * rank:position + (j+1)*rank]).reshape(-1,)\n",
        "\n",
        "        eps = np.linalg.matrix_norm(delta)\n",
        "\n",
        "        it += 1\n",
        "\n",
        "    return factors, it"
      ]
    },
    {
      "cell_type": "code",
      "source": [
        "sizes = np.array((10, 10, 10, 10))\n",
        "T = np.zeros(sizes)\n",
        "for i in range(sizes[0]):\n",
        "    for j in range(sizes[1]):\n",
        "        for k in range(sizes[2]):\n",
        "            for l in range(sizes[3]):\n",
        "                T[i, j, k, l] = np.sin(i + j + k + l)"
      ],
      "metadata": {
        "id": "u2SeFOcJszNr"
      },
      "execution_count": 610,
      "outputs": []
    },
    {
      "cell_type": "code",
      "source": [
        "rank = 4\n",
        "factors, it = Levenberg(T, rank)"
      ],
      "metadata": {
        "id": "8GvvVfmp32kP"
      },
      "execution_count": 611,
      "outputs": []
    },
    {
      "cell_type": "code",
      "source": [
        "len_dim = len(sizes)\n",
        "sweep_l = np.ones(rank).reshape(1, -1)\n",
        "\n",
        "for j in range(len_dim):\n",
        "    sweep_l = lg.khatri_rao(sweep_l, factors[j])\n",
        "\n",
        "print(np.linalg.norm(np.sum(sweep_l, axis=1) - T.reshape(-1,)) / np.linalg.norm(T.reshape(-1,)))"
      ],
      "metadata": {
        "colab": {
          "base_uri": "https://localhost:8080/"
        },
        "id": "Sj8d8uJds69y",
        "outputId": "5e45b1ef-f074-46a1-c282-d4ed6f8abaa6"
      },
      "execution_count": 612,
      "outputs": [
        {
          "output_type": "stream",
          "name": "stdout",
          "text": [
            "6.584987198916426e-09\n"
          ]
        }
      ]
    },
    {
      "cell_type": "code",
      "source": [],
      "metadata": {
        "id": "S0LauIqeIfsL"
      },
      "execution_count": 310,
      "outputs": []
    }
  ]
}