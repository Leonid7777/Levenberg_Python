{
  "nbformat": 4,
  "nbformat_minor": 0,
  "metadata": {
    "colab": {
      "provenance": []
    },
    "kernelspec": {
      "name": "python3",
      "display_name": "Python 3"
    },
    "language_info": {
      "name": "python"
    }
  },
  "cells": [
    {
      "cell_type": "code",
      "source": [
        "import numpy as np\n",
        "from scipy import linalg as lg\n",
        "import time"
      ],
      "metadata": {
        "id": "OXyQ2Vq_qDPv"
      },
      "execution_count": 1,
      "outputs": []
    },
    {
      "cell_type": "code",
      "source": [
        "def count_layers(len_dim, factors):\n",
        "    layers = []\n",
        "    layer = []\n",
        "    for n in range(len_dim):\n",
        "        layer.append(factors[n].T @ factors[n])\n",
        "    layers.append(layer)\n",
        "\n",
        "    for n in range(1, len_dim - 1):\n",
        "        layer = []\n",
        "        for r in range(len_dim - n):\n",
        "            layer.append(layers[n - 1][r] * layers[0][r + n])\n",
        "        layers.append(layer)\n",
        "    return layers"
      ],
      "metadata": {
        "id": "s8Vy96yZiHmH"
      },
      "execution_count": 2,
      "outputs": []
    },
    {
      "cell_type": "code",
      "source": [
        "def count_W(len_dim, layers):\n",
        "    W = []\n",
        "    for row in range(len_dim):\n",
        "        start_layer = row - 1\n",
        "        end_layer = len_dim - row - 2\n",
        "        if start_layer >= 0:\n",
        "            W_col = layers[start_layer][0]\n",
        "            if end_layer >= 0:\n",
        "                W_col = W_col * layers[end_layer][-1]\n",
        "        else:\n",
        "            W_col = layers[end_layer][-1]\n",
        "\n",
        "        W_row = [W_col]\n",
        "\n",
        "        for col in range(row + 1, len_dim):\n",
        "            start_layer = row - 1\n",
        "            middle_layer = col - row - 2\n",
        "            end_layer = len_dim - col - 2\n",
        "\n",
        "            if start_layer >= 0:\n",
        "                W_col = layers[start_layer][0]\n",
        "                if middle_layer >= 0:\n",
        "                    W_col = W_col * layers[middle_layer][row + 1]\n",
        "                if end_layer >= 0:\n",
        "                    W_col = W_col * layers[end_layer][-1]\n",
        "            elif middle_layer >= 0:\n",
        "                W_col = layers[middle_layer][row + 1]\n",
        "                if end_layer >= 0:\n",
        "                    W_col = W_col * layers[end_layer][-1]\n",
        "            else:\n",
        "                W_col = layers[end_layer][-1]\n",
        "\n",
        "\n",
        "            W_row.append(W_col)\n",
        "\n",
        "        W.append(W_row)\n",
        "\n",
        "    return W"
      ],
      "metadata": {
        "id": "61BdJ2UmieBD"
      },
      "execution_count": 3,
      "outputs": []
    },
    {
      "cell_type": "code",
      "source": [
        "def count_JJ_d(len_dim, W, pos, jacob_size, dimensions, rank, factors):\n",
        "    JJ = np.zeros((jacob_size, jacob_size))\n",
        "    for row in range(len_dim):\n",
        "        BB = W[row][0]\n",
        "        for r in range(dimensions[row]):\n",
        "            now_pos = pos[row] + r * rank\n",
        "            JJ[now_pos:now_pos+rank, now_pos:now_pos+rank] = BB\n",
        "\n",
        "    for alpha in range(len_dim):\n",
        "        now_alpha = pos[alpha]\n",
        "        for i in range(alpha + 1, len_dim):\n",
        "            now_i = pos[i]\n",
        "\n",
        "            now_W = W[alpha][i - alpha]\n",
        "            for betta in range(dimensions[alpha]):\n",
        "                now_a_b = now_alpha + betta * rank\n",
        "                for j in range(dimensions[i]):\n",
        "                    now_i_j = now_i + j * rank\n",
        "                    for gamma in range(rank):\n",
        "                        now_a_b_g = now_a_b + gamma\n",
        "                        for k in range(rank):\n",
        "                            now_i_j_k = now_i_j + k\n",
        "                            JJ[now_a_b_g, now_i_j_k] = now_W[gamma][k] * factors[i][j][gamma] * factors[alpha][betta][k]\n",
        "                            JJ[now_i_j_k, now_a_b_g] = now_W[k][gamma] * factors[i][j][gamma] * factors[alpha][betta][k]\n",
        "    return JJ"
      ],
      "metadata": {
        "id": "mBCbaxPxom0G"
      },
      "execution_count": 84,
      "outputs": []
    },
    {
      "cell_type": "code",
      "source": [
        "def calculate_JA(len_dim, factors, rank, dimensions, W, jacob_size):\n",
        "    JA = np.zeros(jacob_size)\n",
        "    for i in range(len_dim):\n",
        "        BB = W[i][0]\n",
        "        pos_i = int((np.sum(dimensions[:i])) * rank)\n",
        "        for j in range(dimensions[i]):\n",
        "            pos_j = pos_i + j * rank\n",
        "            for k in range(rank):\n",
        "                pos_k = pos_j + k\n",
        "                val = 0\n",
        "                for r in range(rank):\n",
        "                    val += BB[k, r] * factors[i][j, r]\n",
        "                JA[pos_k] = val\n",
        "\n",
        "    return JA"
      ],
      "metadata": {
        "id": "uTTunDY1xF2y"
      },
      "execution_count": 85,
      "outputs": []
    },
    {
      "cell_type": "code",
      "source": [
        "def calculate_JT(len_dim, factors, rank, dimensions, W, jacob_size, tensor):\n",
        "    JT = np.zeros(jacob_size)\n",
        "\n",
        "    prom = np.array(tensor.reshape(-1, dimensions[len_dim - 1]) @ factors[len_dim - 1][:, 0])\n",
        "    for r in range(1, rank):\n",
        "        prom = np.vstack((prom, np.array(tensor.reshape(-1, dimensions[len_dim - 1]) @ factors[len_dim - 1][:, r])))\n",
        "    BT = [prom.T]\n",
        "\n",
        "    for i in range(1, len_dim - 1):\n",
        "        prom = np.array(BT[i - 1][:, 0].reshape(-1, dimensions[len_dim - 1 - i]) @ factors[len_dim - 1 - i][:, 0])\n",
        "\n",
        "        for r in range(1, rank):\n",
        "            prom = np.vstack((prom, np.array(BT[i - 1][:, r].reshape(-1, dimensions[len_dim - 1 - i]) @ factors[len_dim - 1 - i][:, r])))\n",
        "\n",
        "        BT.append(prom.T)\n",
        "\n",
        "    for i in range(len_dim):\n",
        "\n",
        "        if i != 0 and i != len_dim - 1:\n",
        "\n",
        "            small_permute = np.array([i])\n",
        "            small_permute = np.append(small_permute, np.arange(i))\n",
        "            small_dim = np.array(dimensions[i])\n",
        "            small_dim = np.append(small_dim, dimensions[:i])\n",
        "\n",
        "            B_i = None\n",
        "            for r in range(rank):\n",
        "                prom = np.transpose(BT[len_dim - 2 - i][:, r].reshape(dimensions[:(i + 1)]), small_permute)\n",
        "                for j in range(i - 1, -1, -1):\n",
        "                    prom = prom.reshape(-1, dimensions[j]) @ factors[j][:, r]\n",
        "                    prom = prom.reshape(small_dim[:(j + 1)])\n",
        "                    small_permute[0] -= 1\n",
        "                if B_i is None:\n",
        "                    B_i = prom\n",
        "                else:\n",
        "                    B_i = np.vstack((B_i, prom))\n",
        "                small_permute[0] = i\n",
        "\n",
        "            JT[int(np.sum(dimensions[:i]) * rank) : int(np.sum(dimensions[:(i+1)]) * rank)] = np.transpose(B_i, (1, 0)).reshape((-1,))\n",
        "\n",
        "        elif i == 0:\n",
        "            B_i = BT[len_dim - 2]\n",
        "            JT[:dimensions[0] * rank] = B_i.reshape((-1,))\n",
        "        else:\n",
        "\n",
        "            small_permute = np.array([len_dim - 1])\n",
        "            small_permute = np.append(small_permute, np.arange(len_dim - 1))\n",
        "            small_dim = np.array(dimensions[len_dim - 1])\n",
        "            small_dim = np.append(small_dim, dimensions[:len_dim - 1])\n",
        "\n",
        "            B_i = None\n",
        "            for r in range(rank):\n",
        "                small_permute[0] = len_dim - 1\n",
        "                prom = np.transpose(tensor, small_permute)\n",
        "                for j in range(len_dim - 1, 0, -1):\n",
        "                    prom = prom.reshape(-1, small_dim[j]) @ factors[j - 1][:, r]\n",
        "                    prom = prom.reshape(small_dim[:j])\n",
        "                    small_permute[0] -= 1\n",
        "                if B_i is None:\n",
        "                    B_i = prom\n",
        "                else:\n",
        "                    B_i = np.vstack((B_i, prom))\n",
        "            JT[-dimensions[-1] * rank :] = np.transpose(B_i, (1, 0)).reshape((-1,))\n",
        "\n",
        "    return JT"
      ],
      "metadata": {
        "id": "UfrlZrl7Oxe7"
      },
      "execution_count": 86,
      "outputs": []
    },
    {
      "cell_type": "code",
      "execution_count": 100,
      "metadata": {
        "id": "hKzGDgqNp0hH"
      },
      "outputs": [],
      "source": [
        "def Levenberg(tensor, rank, seed=42, tol = 10**(-8), n_iteration = 1000):\n",
        "\n",
        "    dimensions = tensor.shape\n",
        "    len_dim = len(dimensions)\n",
        "\n",
        "    jacob_size = int(np.sum(dimensions) * rank)\n",
        "\n",
        "    rng = np.random.RandomState(seed)\n",
        "    factors = np.array([rng.rand(dimensions[i], rank) for i in range(len_dim)], dtype=object)\n",
        "\n",
        "    eps = 1.0\n",
        "    it = 0\n",
        "\n",
        "    pos = [0]\n",
        "    for i in range(len_dim - 1):\n",
        "        pos.append(pos[i] + dimensions[i] * rank)\n",
        "\n",
        "    while eps > tol and it < n_iteration:\n",
        "\n",
        "        layers = count_layers(len_dim, factors)\n",
        "        W = count_W(len_dim, layers)\n",
        "        JJ_d = count_JJ_d(len_dim, W, pos, jacob_size, dimensions, rank, factors)\n",
        "        JA = calculate_JA(len_dim, factors, rank, dimensions, W, jacob_size)\n",
        "        JT = calculate_JT(len_dim, factors, rank, dimensions, W, jacob_size, tensor)\n",
        "\n",
        "        for i in range(jacob_size):\n",
        "            JJ_d[i][i] *= 2\n",
        "\n",
        "        delta = np.linalg.pinv(JJ_d) @ (JA.reshape((-1, 1)) - JT.reshape((-1, 1)))\n",
        "\n",
        "        for i in range(len_dim):\n",
        "            position = int(np.sum(dimensions[:i]) * rank)\n",
        "            for j in range(dimensions[i]):\n",
        "                factors[i][j, :] -= (delta[position + j * rank:position + (j+1)*rank]).reshape(-1,)\n",
        "\n",
        "        eps = np.linalg.matrix_norm(delta)\n",
        "\n",
        "        it += 1\n",
        "\n",
        "    return factors, it"
      ]
    },
    {
      "cell_type": "code",
      "source": [
        "sizes = np.array((2, 2, 2, 2))\n",
        "T = np.zeros(sizes)\n",
        "for i in range(sizes[0]):\n",
        "    for j in range(sizes[1]):\n",
        "        for k in range(sizes[2]):\n",
        "            for l in range(sizes[3]):\n",
        "                T[i, j, k, l] = np.sin(i + j + k + l)"
      ],
      "metadata": {
        "id": "u2SeFOcJszNr"
      },
      "execution_count": 101,
      "outputs": []
    },
    {
      "cell_type": "code",
      "source": [
        "rank = 4\n",
        "factors, it = Levenberg(T, rank)"
      ],
      "metadata": {
        "id": "8GvvVfmp32kP"
      },
      "execution_count": 102,
      "outputs": []
    },
    {
      "cell_type": "code",
      "source": [
        "len_dim = len(sizes)\n",
        "sweep_l = np.ones(rank).reshape(1, -1)\n",
        "\n",
        "for j in range(len_dim):\n",
        "    sweep_l = lg.khatri_rao(sweep_l, factors[j])\n",
        "\n",
        "print(np.linalg.norm(np.sum(sweep_l, axis=1) - T.reshape(-1,)) / np.linalg.norm(T.reshape(-1,)))"
      ],
      "metadata": {
        "colab": {
          "base_uri": "https://localhost:8080/"
        },
        "id": "Sj8d8uJds69y",
        "outputId": "f5b7b338-5493-49f8-92de-1f4f8628b686"
      },
      "execution_count": 103,
      "outputs": [
        {
          "output_type": "stream",
          "name": "stdout",
          "text": [
            "5.0992583084964136e-08\n"
          ]
        }
      ]
    },
    {
      "cell_type": "code",
      "source": [],
      "metadata": {
        "id": "S0LauIqeIfsL"
      },
      "execution_count": 310,
      "outputs": []
    }
  ]
}